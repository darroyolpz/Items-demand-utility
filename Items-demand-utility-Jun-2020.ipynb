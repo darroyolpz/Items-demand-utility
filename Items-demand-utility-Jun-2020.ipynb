{
 "cells": [
  {
   "cell_type": "markdown",
   "metadata": {},
   "source": [
    "# Items demand utility"
   ]
  },
  {
   "cell_type": "markdown",
   "metadata": {},
   "source": [
    "Import all the needed modules"
   ]
  },
  {
   "cell_type": "code",
   "execution_count": 1,
   "metadata": {},
   "outputs": [],
   "source": [
    "import pandas as pd\n",
    "from pandas import ExcelWriter\n",
    "import numpy as np"
   ]
  },
  {
   "cell_type": "markdown",
   "metadata": {},
   "source": [
    "Import from the statistics file the columns needed"
   ]
  },
  {
   "cell_type": "code",
   "execution_count": 2,
   "metadata": {},
   "outputs": [],
   "source": [
    "excel_file = 'R12.xlsx'\n",
    "df = pd.read_excel(excel_file, usecols = ['Item', 'Year month',\n",
    "                                          'Sold qty', 'Used qty',\n",
    "                                          'Not rep usage'])"
   ]
  },
  {
   "cell_type": "markdown",
   "metadata": {},
   "source": [
    "Import from the master file the columns needed"
   ]
  },
  {
   "cell_type": "code",
   "execution_count": 3,
   "metadata": {},
   "outputs": [],
   "source": [
    "master_file = 'Item master.xlsx'\n",
    "df_master = pd.read_excel(master_file, usecols = ['Item no', 'Item name',\n",
    "                                            'Product group descr'])\n",
    "df_master['Item no'] = df_master['Item no'].astype(str)"
   ]
  },
  {
   "cell_type": "markdown",
   "metadata": {},
   "source": [
    "Import supply data for suppliers"
   ]
  },
  {
   "cell_type": "code",
   "execution_count": 4,
   "metadata": {},
   "outputs": [],
   "source": [
    "excel = 'Supply.xlsx'\n",
    "df_supply = pd.read_excel(excel, usecols = ['Item no', 'Supplier'])\n",
    "df_supply.drop_duplicates(inplace=True)\n",
    "df_supply['Item no'] = df_supply['Item no'].astype(str)"
   ]
  },
  {
   "cell_type": "markdown",
   "metadata": {},
   "source": [
    "Import Item Balance"
   ]
  },
  {
   "cell_type": "code",
   "execution_count": 5,
   "metadata": {},
   "outputs": [],
   "source": [
    "excel_file = 'Item balance.xlsx'\n",
    "df_balance = pd.read_excel(excel_file, usecols = ['Item no', 'Safety stock', 'On hand bal'])\n",
    "df_balance['Item no'] = df_balance['Item no'].astype(str)"
   ]
  },
  {
   "cell_type": "markdown",
   "metadata": {},
   "source": [
    "Get the first word of the item column using str.split and str.get function"
   ]
  },
  {
   "cell_type": "code",
   "execution_count": 6,
   "metadata": {},
   "outputs": [],
   "source": [
    "df['Item no'] = df['Item'].str.split().str.get(0)\n",
    "df['Item no'] = df['Item no'].astype(str)"
   ]
  },
  {
   "cell_type": "markdown",
   "metadata": {},
   "source": [
    "Remove possible whitespaces in the figures"
   ]
  },
  {
   "cell_type": "code",
   "execution_count": 7,
   "metadata": {},
   "outputs": [],
   "source": [
    "columns = ['Sold qty', 'Used qty', 'Not rep usage']\n",
    "\n",
    "for column in columns:\n",
    "    df[column] = df[column].astype(str)\n",
    "    df[column] = df[column].str.replace(' ', '')\n",
    "    df[column] = df[column].astype(float)"
   ]
  },
  {
   "cell_type": "markdown",
   "metadata": {},
   "source": [
    "Get the demand"
   ]
  },
  {
   "cell_type": "code",
   "execution_count": 8,
   "metadata": {},
   "outputs": [],
   "source": [
    "df['Demand'] = df['Sold qty'] + df['Used qty'] + np.where(df['Not rep usage'] > 0, df['Not rep usage'], 0)"
   ]
  },
  {
   "cell_type": "markdown",
   "metadata": {},
   "source": [
    "Get the pivot table of the demand and year month and replace NaN with zeros"
   ]
  },
  {
   "cell_type": "code",
   "execution_count": 9,
   "metadata": {},
   "outputs": [
    {
     "data": {
      "text/html": [
       "<div>\n",
       "<style scoped>\n",
       "    .dataframe tbody tr th:only-of-type {\n",
       "        vertical-align: middle;\n",
       "    }\n",
       "\n",
       "    .dataframe tbody tr th {\n",
       "        vertical-align: top;\n",
       "    }\n",
       "\n",
       "    .dataframe thead th {\n",
       "        text-align: right;\n",
       "    }\n",
       "</style>\n",
       "<table border=\"1\" class=\"dataframe\">\n",
       "  <thead>\n",
       "    <tr style=\"text-align: right;\">\n",
       "      <th></th>\n",
       "      <th>Item no</th>\n",
       "      <th>1901</th>\n",
       "      <th>1902</th>\n",
       "      <th>1903</th>\n",
       "      <th>1904</th>\n",
       "      <th>1905</th>\n",
       "      <th>1906</th>\n",
       "      <th>1907</th>\n",
       "      <th>1908</th>\n",
       "      <th>1909</th>\n",
       "      <th>1910</th>\n",
       "      <th>1911</th>\n",
       "      <th>1912</th>\n",
       "      <th>2001</th>\n",
       "      <th>2002</th>\n",
       "      <th>2003</th>\n",
       "      <th>2004</th>\n",
       "      <th>2005</th>\n",
       "      <th>2006</th>\n",
       "    </tr>\n",
       "  </thead>\n",
       "  <tbody>\n",
       "    <tr>\n",
       "      <td>0</td>\n",
       "      <td>0645000</td>\n",
       "      <td>132.0</td>\n",
       "      <td>33.0</td>\n",
       "      <td>33.0</td>\n",
       "      <td>33.0</td>\n",
       "      <td>33.0</td>\n",
       "      <td>66.0</td>\n",
       "      <td>33.0</td>\n",
       "      <td>99.0</td>\n",
       "      <td>0.0</td>\n",
       "      <td>99.0</td>\n",
       "      <td>297.0</td>\n",
       "      <td>99.0</td>\n",
       "      <td>198.0</td>\n",
       "      <td>33.0</td>\n",
       "      <td>99.0</td>\n",
       "      <td>99.0</td>\n",
       "      <td>198.0</td>\n",
       "      <td>99.0</td>\n",
       "    </tr>\n",
       "    <tr>\n",
       "      <td>1</td>\n",
       "      <td>0645001</td>\n",
       "      <td>0.0</td>\n",
       "      <td>39.0</td>\n",
       "      <td>39.0</td>\n",
       "      <td>390.0</td>\n",
       "      <td>39.0</td>\n",
       "      <td>117.0</td>\n",
       "      <td>195.0</td>\n",
       "      <td>390.0</td>\n",
       "      <td>39.0</td>\n",
       "      <td>78.0</td>\n",
       "      <td>39.0</td>\n",
       "      <td>39.0</td>\n",
       "      <td>156.0</td>\n",
       "      <td>78.0</td>\n",
       "      <td>156.0</td>\n",
       "      <td>39.0</td>\n",
       "      <td>78.0</td>\n",
       "      <td>0.0</td>\n",
       "    </tr>\n",
       "    <tr>\n",
       "      <td>2</td>\n",
       "      <td>0645002</td>\n",
       "      <td>90.0</td>\n",
       "      <td>90.0</td>\n",
       "      <td>0.0</td>\n",
       "      <td>225.0</td>\n",
       "      <td>360.0</td>\n",
       "      <td>45.0</td>\n",
       "      <td>45.0</td>\n",
       "      <td>225.0</td>\n",
       "      <td>135.0</td>\n",
       "      <td>90.0</td>\n",
       "      <td>45.0</td>\n",
       "      <td>45.0</td>\n",
       "      <td>0.0</td>\n",
       "      <td>45.0</td>\n",
       "      <td>180.0</td>\n",
       "      <td>0.0</td>\n",
       "      <td>90.0</td>\n",
       "      <td>0.0</td>\n",
       "    </tr>\n",
       "    <tr>\n",
       "      <td>3</td>\n",
       "      <td>0645003</td>\n",
       "      <td>0.0</td>\n",
       "      <td>102.0</td>\n",
       "      <td>51.0</td>\n",
       "      <td>204.0</td>\n",
       "      <td>51.0</td>\n",
       "      <td>153.0</td>\n",
       "      <td>255.0</td>\n",
       "      <td>51.0</td>\n",
       "      <td>153.0</td>\n",
       "      <td>459.0</td>\n",
       "      <td>102.0</td>\n",
       "      <td>0.0</td>\n",
       "      <td>51.0</td>\n",
       "      <td>102.0</td>\n",
       "      <td>0.0</td>\n",
       "      <td>51.0</td>\n",
       "      <td>204.0</td>\n",
       "      <td>51.0</td>\n",
       "    </tr>\n",
       "    <tr>\n",
       "      <td>4</td>\n",
       "      <td>0645004</td>\n",
       "      <td>174.0</td>\n",
       "      <td>0.0</td>\n",
       "      <td>290.0</td>\n",
       "      <td>58.0</td>\n",
       "      <td>174.0</td>\n",
       "      <td>174.0</td>\n",
       "      <td>58.0</td>\n",
       "      <td>0.0</td>\n",
       "      <td>232.0</td>\n",
       "      <td>232.0</td>\n",
       "      <td>58.0</td>\n",
       "      <td>58.0</td>\n",
       "      <td>464.0</td>\n",
       "      <td>232.0</td>\n",
       "      <td>102.0</td>\n",
       "      <td>0.0</td>\n",
       "      <td>102.0</td>\n",
       "      <td>102.0</td>\n",
       "    </tr>\n",
       "  </tbody>\n",
       "</table>\n",
       "</div>"
      ],
      "text/plain": [
       "   Item no   1901   1902   1903   1904   1905   1906   1907   1908   1909  \\\n",
       "0  0645000  132.0   33.0   33.0   33.0   33.0   66.0   33.0   99.0    0.0   \n",
       "1  0645001    0.0   39.0   39.0  390.0   39.0  117.0  195.0  390.0   39.0   \n",
       "2  0645002   90.0   90.0    0.0  225.0  360.0   45.0   45.0  225.0  135.0   \n",
       "3  0645003    0.0  102.0   51.0  204.0   51.0  153.0  255.0   51.0  153.0   \n",
       "4  0645004  174.0    0.0  290.0   58.0  174.0  174.0   58.0    0.0  232.0   \n",
       "\n",
       "    1910   1911  1912   2001   2002   2003  2004   2005   2006  \n",
       "0   99.0  297.0  99.0  198.0   33.0   99.0  99.0  198.0   99.0  \n",
       "1   78.0   39.0  39.0  156.0   78.0  156.0  39.0   78.0    0.0  \n",
       "2   90.0   45.0  45.0    0.0   45.0  180.0   0.0   90.0    0.0  \n",
       "3  459.0  102.0   0.0   51.0  102.0    0.0  51.0  204.0   51.0  \n",
       "4  232.0   58.0  58.0  464.0  232.0  102.0   0.0  102.0  102.0  "
      ]
     },
     "execution_count": 9,
     "metadata": {},
     "output_type": "execute_result"
    }
   ],
   "source": [
    "pivot_df = pd.pivot_table(df, values = 'Demand', index = 'Item no' , columns = 'Year month', aggfunc=np.sum)\n",
    "pivot_df = pivot_df.fillna(0)\n",
    "pivot_df = pd.DataFrame(pivot_df.to_records())\n",
    "pivot_df.head()"
   ]
  },
  {
   "cell_type": "markdown",
   "metadata": {},
   "source": [
    "Total field for pivot_df"
   ]
  },
  {
   "cell_type": "code",
   "execution_count": 10,
   "metadata": {
    "scrolled": true
   },
   "outputs": [
    {
     "data": {
      "text/html": [
       "<div>\n",
       "<style scoped>\n",
       "    .dataframe tbody tr th:only-of-type {\n",
       "        vertical-align: middle;\n",
       "    }\n",
       "\n",
       "    .dataframe tbody tr th {\n",
       "        vertical-align: top;\n",
       "    }\n",
       "\n",
       "    .dataframe thead th {\n",
       "        text-align: right;\n",
       "    }\n",
       "</style>\n",
       "<table border=\"1\" class=\"dataframe\">\n",
       "  <thead>\n",
       "    <tr style=\"text-align: right;\">\n",
       "      <th></th>\n",
       "      <th>Item no</th>\n",
       "      <th>1901</th>\n",
       "      <th>1902</th>\n",
       "      <th>1903</th>\n",
       "      <th>1904</th>\n",
       "      <th>1905</th>\n",
       "      <th>1906</th>\n",
       "      <th>1907</th>\n",
       "      <th>1908</th>\n",
       "      <th>1909</th>\n",
       "      <th>...</th>\n",
       "      <th>Total</th>\n",
       "      <th>Mean</th>\n",
       "      <th>StD</th>\n",
       "      <th>CV</th>\n",
       "      <th>Min</th>\n",
       "      <th>Q25</th>\n",
       "      <th>Median</th>\n",
       "      <th>Q67</th>\n",
       "      <th>Q75</th>\n",
       "      <th>Max</th>\n",
       "    </tr>\n",
       "  </thead>\n",
       "  <tbody>\n",
       "    <tr>\n",
       "      <td>0</td>\n",
       "      <td>0645000</td>\n",
       "      <td>132.0</td>\n",
       "      <td>33.0</td>\n",
       "      <td>33.0</td>\n",
       "      <td>33.0</td>\n",
       "      <td>33.0</td>\n",
       "      <td>66.0</td>\n",
       "      <td>33.0</td>\n",
       "      <td>99.0</td>\n",
       "      <td>0.0</td>\n",
       "      <td>...</td>\n",
       "      <td>1683.0</td>\n",
       "      <td>93.500000</td>\n",
       "      <td>75.294129</td>\n",
       "      <td>0.805285</td>\n",
       "      <td>0.0</td>\n",
       "      <td>33.0</td>\n",
       "      <td>99.0</td>\n",
       "      <td>99.0</td>\n",
       "      <td>99.0</td>\n",
       "      <td>297.0</td>\n",
       "    </tr>\n",
       "    <tr>\n",
       "      <td>1</td>\n",
       "      <td>0645001</td>\n",
       "      <td>0.0</td>\n",
       "      <td>39.0</td>\n",
       "      <td>39.0</td>\n",
       "      <td>390.0</td>\n",
       "      <td>39.0</td>\n",
       "      <td>117.0</td>\n",
       "      <td>195.0</td>\n",
       "      <td>390.0</td>\n",
       "      <td>39.0</td>\n",
       "      <td>...</td>\n",
       "      <td>1911.0</td>\n",
       "      <td>106.166667</td>\n",
       "      <td>116.467744</td>\n",
       "      <td>1.097027</td>\n",
       "      <td>0.0</td>\n",
       "      <td>39.0</td>\n",
       "      <td>58.5</td>\n",
       "      <td>93.0</td>\n",
       "      <td>146.0</td>\n",
       "      <td>390.0</td>\n",
       "    </tr>\n",
       "    <tr>\n",
       "      <td>2</td>\n",
       "      <td>0645002</td>\n",
       "      <td>90.0</td>\n",
       "      <td>90.0</td>\n",
       "      <td>0.0</td>\n",
       "      <td>225.0</td>\n",
       "      <td>360.0</td>\n",
       "      <td>45.0</td>\n",
       "      <td>45.0</td>\n",
       "      <td>225.0</td>\n",
       "      <td>135.0</td>\n",
       "      <td>...</td>\n",
       "      <td>1710.0</td>\n",
       "      <td>95.000000</td>\n",
       "      <td>97.483030</td>\n",
       "      <td>1.026137</td>\n",
       "      <td>0.0</td>\n",
       "      <td>45.0</td>\n",
       "      <td>67.5</td>\n",
       "      <td>90.0</td>\n",
       "      <td>124.0</td>\n",
       "      <td>360.0</td>\n",
       "    </tr>\n",
       "    <tr>\n",
       "      <td>3</td>\n",
       "      <td>0645003</td>\n",
       "      <td>0.0</td>\n",
       "      <td>102.0</td>\n",
       "      <td>51.0</td>\n",
       "      <td>204.0</td>\n",
       "      <td>51.0</td>\n",
       "      <td>153.0</td>\n",
       "      <td>255.0</td>\n",
       "      <td>51.0</td>\n",
       "      <td>153.0</td>\n",
       "      <td>...</td>\n",
       "      <td>2040.0</td>\n",
       "      <td>113.333333</td>\n",
       "      <td>114.113978</td>\n",
       "      <td>1.006888</td>\n",
       "      <td>0.0</td>\n",
       "      <td>51.0</td>\n",
       "      <td>76.5</td>\n",
       "      <td>122.0</td>\n",
       "      <td>153.0</td>\n",
       "      <td>459.0</td>\n",
       "    </tr>\n",
       "    <tr>\n",
       "      <td>4</td>\n",
       "      <td>0645004</td>\n",
       "      <td>174.0</td>\n",
       "      <td>0.0</td>\n",
       "      <td>290.0</td>\n",
       "      <td>58.0</td>\n",
       "      <td>174.0</td>\n",
       "      <td>174.0</td>\n",
       "      <td>58.0</td>\n",
       "      <td>0.0</td>\n",
       "      <td>232.0</td>\n",
       "      <td>...</td>\n",
       "      <td>2510.0</td>\n",
       "      <td>139.444444</td>\n",
       "      <td>120.381366</td>\n",
       "      <td>0.863293</td>\n",
       "      <td>0.0</td>\n",
       "      <td>58.0</td>\n",
       "      <td>102.0</td>\n",
       "      <td>174.0</td>\n",
       "      <td>218.0</td>\n",
       "      <td>464.0</td>\n",
       "    </tr>\n",
       "  </tbody>\n",
       "</table>\n",
       "<p>5 rows × 29 columns</p>\n",
       "</div>"
      ],
      "text/plain": [
       "   Item no   1901   1902   1903   1904   1905   1906   1907   1908   1909  \\\n",
       "0  0645000  132.0   33.0   33.0   33.0   33.0   66.0   33.0   99.0    0.0   \n",
       "1  0645001    0.0   39.0   39.0  390.0   39.0  117.0  195.0  390.0   39.0   \n",
       "2  0645002   90.0   90.0    0.0  225.0  360.0   45.0   45.0  225.0  135.0   \n",
       "3  0645003    0.0  102.0   51.0  204.0   51.0  153.0  255.0   51.0  153.0   \n",
       "4  0645004  174.0    0.0  290.0   58.0  174.0  174.0   58.0    0.0  232.0   \n",
       "\n",
       "   ...   Total        Mean         StD        CV  Min   Q25  Median    Q67  \\\n",
       "0  ...  1683.0   93.500000   75.294129  0.805285  0.0  33.0    99.0   99.0   \n",
       "1  ...  1911.0  106.166667  116.467744  1.097027  0.0  39.0    58.5   93.0   \n",
       "2  ...  1710.0   95.000000   97.483030  1.026137  0.0  45.0    67.5   90.0   \n",
       "3  ...  2040.0  113.333333  114.113978  1.006888  0.0  51.0    76.5  122.0   \n",
       "4  ...  2510.0  139.444444  120.381366  0.863293  0.0  58.0   102.0  174.0   \n",
       "\n",
       "     Q75    Max  \n",
       "0   99.0  297.0  \n",
       "1  146.0  390.0  \n",
       "2  124.0  360.0  \n",
       "3  153.0  459.0  \n",
       "4  218.0  464.0  \n",
       "\n",
       "[5 rows x 29 columns]"
      ]
     },
     "execution_count": 10,
     "metadata": {},
     "output_type": "execute_result"
    }
   ],
   "source": [
    "col_len = len(pivot_df.columns)\n",
    "pivot_df['Total'] = pivot_df.iloc[:, 1:col_len].sum(axis=1, numeric_only=True)\n",
    "pivot_df['Mean'] = pivot_df.iloc[:, 1:col_len].mean(axis=1, numeric_only=True)\n",
    "pivot_df['StD'] = pivot_df.iloc[:, 1:col_len].std(axis=1, numeric_only=True) \n",
    "pivot_df['CV'] = pivot_df['StD'] / pivot_df['Mean']\n",
    "pivot_df['Min'] = pivot_df.iloc[:, 1:col_len].min(axis=1, numeric_only=True)\n",
    "pivot_df['Q25'] = pivot_df.iloc[:, 1:col_len].quantile(q=0.25, axis=1, numeric_only=True).round(0)\n",
    "pivot_df['Median'] = pivot_df.iloc[:, 1:col_len].median(axis=1, numeric_only=True)\n",
    "pivot_df['Q67'] = pivot_df.iloc[:, 1:col_len].quantile(q=0.67, axis=1, numeric_only=True).round(0)\n",
    "pivot_df['Q75'] = pivot_df.iloc[:, 1:col_len].quantile(q=0.75, axis=1, numeric_only=True).round(0)\n",
    "pivot_df['Max'] = pivot_df.iloc[:, 1:col_len].max(axis=1, numeric_only=True)\n",
    "pivot_df['Item no'] = pivot_df['Item no'].astype(str)\n",
    "pivot_df.head()"
   ]
  },
  {
   "cell_type": "markdown",
   "metadata": {},
   "source": [
    "Get the 'Item name' for each item. Merge it with the master_df"
   ]
  },
  {
   "cell_type": "code",
   "execution_count": 11,
   "metadata": {},
   "outputs": [],
   "source": [
    "df_master = pd.merge(df_master, df_supply, on='Item no') # Suppliers\n",
    "\n",
    "df_master_balance = pd.merge(df_master, df_balance, on='Item no')\n",
    "df_master_balance['Item no'] = df_master_balance['Item no'].astype(str)\n",
    "\n",
    "demand_df = pd.merge(df_master, pivot_df, on='Item no')\n",
    "demand_df = demand_df.fillna(0)\n",
    "\n",
    "demand_df_balance = pd.merge(df_master_balance, pivot_df, on='Item no')\n",
    "demand_df_balance = demand_df_balance.fillna(0)"
   ]
  },
  {
   "cell_type": "markdown",
   "metadata": {},
   "source": [
    "Output the demand to Excel"
   ]
  },
  {
   "cell_type": "code",
   "execution_count": 12,
   "metadata": {},
   "outputs": [
    {
     "name": "stdout",
     "output_type": "stream",
     "text": [
      "Done bro!\n",
      "Done bro!\n"
     ]
    }
   ],
   "source": [
    "name = 'Items Demand.xlsx'\n",
    "writer = pd.ExcelWriter(name)\n",
    "demand_df.to_excel(writer, index = False)\n",
    "writer.save()\n",
    "print('Done bro!')\n",
    "\n",
    "name = 'Items Demand Balance.xlsx'\n",
    "writer = pd.ExcelWriter(name)\n",
    "demand_df_balance.to_excel(writer, index = False)\n",
    "writer.save()\n",
    "print('Done bro!')"
   ]
  },
  {
   "cell_type": "code",
   "execution_count": 13,
   "metadata": {},
   "outputs": [
    {
     "data": {
      "text/html": [
       "<div>\n",
       "<style scoped>\n",
       "    .dataframe tbody tr th:only-of-type {\n",
       "        vertical-align: middle;\n",
       "    }\n",
       "\n",
       "    .dataframe tbody tr th {\n",
       "        vertical-align: top;\n",
       "    }\n",
       "\n",
       "    .dataframe thead th {\n",
       "        text-align: right;\n",
       "    }\n",
       "</style>\n",
       "<table border=\"1\" class=\"dataframe\">\n",
       "  <thead>\n",
       "    <tr style=\"text-align: right;\">\n",
       "      <th></th>\n",
       "      <th>Item no</th>\n",
       "      <th>Item name</th>\n",
       "      <th>Product group descr</th>\n",
       "      <th>Supplier</th>\n",
       "      <th>Safety stock</th>\n",
       "      <th>On hand bal</th>\n",
       "    </tr>\n",
       "  </thead>\n",
       "  <tbody>\n",
       "    <tr>\n",
       "      <td>0</td>\n",
       "      <td>1330</td>\n",
       "      <td>TFSR 125 M Black</td>\n",
       "      <td>203   Roof fans</td>\n",
       "      <td>S010   Systemair Sverige AB</td>\n",
       "      <td>5.0</td>\n",
       "      <td>9</td>\n",
       "    </tr>\n",
       "    <tr>\n",
       "      <td>1</td>\n",
       "      <td>1334</td>\n",
       "      <td>TFSR 200 Black</td>\n",
       "      <td>203   Roof fans</td>\n",
       "      <td>S010   Systemair Sverige AB</td>\n",
       "      <td>3.0</td>\n",
       "      <td>6</td>\n",
       "    </tr>\n",
       "    <tr>\n",
       "      <td>2</td>\n",
       "      <td>1487</td>\n",
       "      <td>KT 50-25-4</td>\n",
       "      <td>202   Rectangular &amp; Square Duct fans</td>\n",
       "      <td>S010   Systemair Sverige AB</td>\n",
       "      <td>0.0</td>\n",
       "      <td>1</td>\n",
       "    </tr>\n",
       "    <tr>\n",
       "      <td>3</td>\n",
       "      <td>1608</td>\n",
       "      <td>FK 125 Fast clamp</td>\n",
       "      <td>208   Accessories Ventilation</td>\n",
       "      <td>S670   Systemair GmbH</td>\n",
       "      <td>0.0</td>\n",
       "      <td>19</td>\n",
       "    </tr>\n",
       "    <tr>\n",
       "      <td>4</td>\n",
       "      <td>1611</td>\n",
       "      <td>FK 200 Fast clamp</td>\n",
       "      <td>208   Accessories Ventilation</td>\n",
       "      <td>S670   Systemair GmbH</td>\n",
       "      <td>0.0</td>\n",
       "      <td>4</td>\n",
       "    </tr>\n",
       "  </tbody>\n",
       "</table>\n",
       "</div>"
      ],
      "text/plain": [
       "  Item no          Item name                   Product group descr  \\\n",
       "0    1330   TFSR 125 M Black                       203   Roof fans   \n",
       "1    1334     TFSR 200 Black                       203   Roof fans   \n",
       "2    1487         KT 50-25-4  202   Rectangular & Square Duct fans   \n",
       "3    1608  FK 125 Fast clamp         208   Accessories Ventilation   \n",
       "4    1611  FK 200 Fast clamp         208   Accessories Ventilation   \n",
       "\n",
       "                      Supplier  Safety stock On hand bal  \n",
       "0  S010   Systemair Sverige AB           5.0           9  \n",
       "1  S010   Systemair Sverige AB           3.0           6  \n",
       "2  S010   Systemair Sverige AB           0.0           1  \n",
       "3        S670   Systemair GmbH           0.0          19  \n",
       "4        S670   Systemair GmbH           0.0           4  "
      ]
     },
     "execution_count": 13,
     "metadata": {},
     "output_type": "execute_result"
    }
   ],
   "source": [
    "df_master_balance.head()"
   ]
  }
 ],
 "metadata": {
  "anaconda-cloud": {},
  "kernelspec": {
   "display_name": "Python 3",
   "language": "python",
   "name": "python3"
  },
  "language_info": {
   "codemirror_mode": {
    "name": "ipython",
    "version": 3
   },
   "file_extension": ".py",
   "mimetype": "text/x-python",
   "name": "python",
   "nbconvert_exporter": "python",
   "pygments_lexer": "ipython3",
   "version": "3.7.4"
  }
 },
 "nbformat": 4,
 "nbformat_minor": 2
}
